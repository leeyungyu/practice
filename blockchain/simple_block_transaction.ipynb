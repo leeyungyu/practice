{
 "cells": [
  {
   "cell_type": "markdown",
   "metadata": {},
   "source": [
    "### 블록체인 강화"
   ]
  },
  {
   "cell_type": "code",
   "execution_count": 1,
   "metadata": {
    "collapsed": true
   },
   "outputs": [],
   "source": [
    "import simple_block as sb\n",
    "import json"
   ]
  },
  {
   "cell_type": "code",
   "execution_count": 2,
   "metadata": {
    "collapsed": true
   },
   "outputs": [],
   "source": [
    "from flask import Flask\n",
    "from flask import request"
   ]
  },
  {
   "cell_type": "markdown",
   "metadata": {},
   "source": [
    "Flask는 장고와 같은 웹 프레임워크인데..장고보다 더 좋은듯. pip install flask"
   ]
  },
  {
   "cell_type": "code",
   "execution_count": 3,
   "metadata": {
    "collapsed": true
   },
   "outputs": [],
   "source": [
    "node = Flask(__name__)"
   ]
  },
  {
   "cell_type": "markdown",
   "metadata": {},
   "source": [
    "사용자의 노드를 설정해 준 것. 이름은 무조건 '\\__name__'으로 해야 하는데, 앱으로 구동할때와 모듈로 임포트할때 이름이 달라지기 때문인 듯(다시 알아보기)"
   ]
  },
  {
   "cell_type": "code",
   "execution_count": 4,
   "metadata": {
    "collapsed": false
   },
   "outputs": [
    {
     "name": "stdout",
     "output_type": "stream",
     "text": [
      "Chain #1 : 1a1923f1b7a3b98489f5b1b0043ef2195ef8ce9f6e78a1493131cc2cfc7eab54\n",
      "Chain #2 : 589bccb31df7f752282a6455dbae82449f32d7edf69d9cdd0b4cd4646b1c71b0\n",
      "Chain #3 : 6b45c2bde24d615576353397d5c4f6c4916682c1545e767ba226b42ec3ad3324\n"
     ]
    }
   ],
   "source": [
    "chain = sb.Chain()\n",
    "chain.execute(3)"
   ]
  },
  {
   "cell_type": "code",
   "execution_count": 5,
   "metadata": {
    "collapsed": true
   },
   "outputs": [],
   "source": [
    "blockchain = chain.chain"
   ]
  },
  {
   "cell_type": "code",
   "execution_count": 6,
   "metadata": {
    "collapsed": true
   },
   "outputs": [],
   "source": [
    "transactions = []"
   ]
  },
  {
   "cell_type": "code",
   "execution_count": 7,
   "metadata": {
    "collapsed": true
   },
   "outputs": [],
   "source": [
    "@node.route('/txion', methods = ['POST']) # url 설정\n",
    "def transaction():\n",
    "    if request.method == 'POST':\n",
    "        new_txion = request.get_json()\n",
    "        transactions.append(new_txion)\n",
    "        \n",
    "        print('New transaction')\n",
    "        print('FROM: {}'.format(new_txion['from']))\n",
    "        print('TO: {}'.format(new_txion['to']))\n",
    "        print('AMOUNT: {}'.format(new_txion['amount']))\n",
    "        \n",
    "    return 'Transaction submission successful'"
   ]
  },
  {
   "cell_type": "markdown",
   "metadata": {},
   "source": [
    "이를 통해 블록체인 전송 기록을 유지할 수 있다."
   ]
  },
  {
   "cell_type": "markdown",
   "metadata": {},
   "source": [
    "#### proof of work : 채굴 난이도 조절을 위한 알고리즘. 컴퓨터가 일을 했다는 증거"
   ]
  },
  {
   "cell_type": "markdown",
   "metadata": {},
   "source": [
    "* 9번째마다 채굴되도록 설정"
   ]
  },
  {
   "cell_type": "code",
   "execution_count": 8,
   "metadata": {
    "collapsed": true
   },
   "outputs": [],
   "source": [
    "miner_address = 'miner-1'\n",
    "\n",
    "def pow(last_proof):\n",
    "    incrementor = last_proof + 1\n",
    "    \n",
    "    while not (incrementor % 9 ==0 and incrementor % last_proof == 0):\n",
    "        incrementor += 1\n",
    "    return incrementor"
   ]
  },
  {
   "cell_type": "code",
   "execution_count": 9,
   "metadata": {
    "collapsed": true
   },
   "outputs": [],
   "source": [
    "@node.route('/mine', methods = ['GET'])\n",
    "def mine():\n",
    "    last_block = blockchain[len(blockchain) - 1]\n",
    "    last_proof = last_block.data['proof-of-work']\n",
    "    \n",
    "    proof = pof(last_proof)\n",
    "    \n",
    "    transactions.append({\"from\": \"network\", \"to\": miner_address, \"amount\": 1})\n",
    "    new_block_data = {\"proof-of-work\": proof, \"transactions\": list(transactions)}\n",
    "    \n",
    "    new_block_index = last.block.index + 1\n",
    "    new_block_timestamp = date.datetime.now()\n",
    "    last_block_hash = last_block.hash\n",
    "    \n",
    "    transactions[:] = []\n",
    "    mined_block = Block(new_block_index, new_block_timestamp, new_block_data, last_block_hash)\n",
    "    \n",
    "    blockchain.append(mined_block)\n",
    "    \n",
    "    return json.dumps({\"index\": new_block_index, \"timestamp\": str(new_block_timestamp),\"data\":new_block_data, \"hash\": last_block_hash}) + \"\\n\"\n",
    "\n"
   ]
  },
  {
   "cell_type": "markdown",
   "metadata": {},
   "source": [
    "#### 합의(consensus) 알고리즘: 다른 노드의 체인 검증"
   ]
  },
  {
   "cell_type": "code",
   "execution_count": 10,
   "metadata": {
    "collapsed": true
   },
   "outputs": [],
   "source": [
    "@node.route('/blocks', methods = ['GET'])\n",
    "def get_blocks():\n",
    "    chain_to_send = blockchain\n",
    "    \n",
    "    for block in chain_to_send:\n",
    "        block_index = str(block.index)\n",
    "        block_timestamp = str(block.timestamp)\n",
    "        block_data = str(block.data)\n",
    "        block_hash = block.hash\n",
    "        block = {\"index\": block_index, \"timestmap\":block_timestamp, \"data\":block_timestamp, \"hash\": block_hash}\n",
    "        \n",
    "        chain_to_send = json.dumps(chain_to_send)\n",
    "        \n",
    "        return chain_to_send\n",
    "    \n",
    "def find_new_chains():\n",
    "    other_chains = []\n",
    "    for node_url in peer_nodes: # ?????????? 이거 머지?\n",
    "        block = request.get(node_url + '/blocks').content\n",
    "        block = json.loads(block)\n",
    "        \n",
    "    return other_chains\n",
    "\n",
    "def consensus():\n",
    "    other_chains = find_new_chains()\n",
    "    \n",
    "    longest_chain = blockchain\n",
    "    \n",
    "    for chain in other_chains:\n",
    "        if len(longest_chain) < len(chain):\n",
    "            longest_chain = chain\n",
    "            \n",
    "    blockchain = longest_chain"
   ]
  },
  {
   "cell_type": "code",
   "execution_count": null,
   "metadata": {
    "collapsed": false
   },
   "outputs": [
    {
     "name": "stderr",
     "output_type": "stream",
     "text": [
      " * Running on http://127.0.0.1:5000/ (Press CTRL+C to quit)\n",
      "127.0.0.1 - - [29/Mar/2018 18:54:12] \"GET / HTTP/1.1\" 404 -\n"
     ]
    }
   ],
   "source": [
    "node.run()"
   ]
  },
  {
   "cell_type": "code",
   "execution_count": null,
   "metadata": {
    "collapsed": true
   },
   "outputs": [],
   "source": []
  }
 ],
 "metadata": {
  "kernelspec": {
   "display_name": "Python 3",
   "language": "python",
   "name": "python3"
  },
  "language_info": {
   "codemirror_mode": {
    "name": "ipython",
    "version": 3
   },
   "file_extension": ".py",
   "mimetype": "text/x-python",
   "name": "python",
   "nbconvert_exporter": "python",
   "pygments_lexer": "ipython3",
   "version": "3.6.0"
  }
 },
 "nbformat": 4,
 "nbformat_minor": 2
}
