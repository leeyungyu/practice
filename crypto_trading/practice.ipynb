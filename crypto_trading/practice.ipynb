{
 "cells": [
  {
   "cell_type": "code",
   "execution_count": 47,
   "metadata": {},
   "outputs": [],
   "source": [
    "import pandas as pd\n",
    "from module.function import *\n",
    "from module.learning import *"
   ]
  },
  {
   "cell_type": "code",
   "execution_count": 48,
   "metadata": {},
   "outputs": [],
   "source": [
    "from Crawl import *"
   ]
  },
  {
   "cell_type": "code",
   "execution_count": 49,
   "metadata": {},
   "outputs": [],
   "source": [
    "coin_list = 'TRX,NEO,BLZ,ICX,EOS,VEN,XRP,ADA,XLM,FUN,BNB,DGD,LTC,IOTA,CTR,WTC,CND,QSP,OMG,PPT,ZRX,IOST,GXS,XVG,BQX,LSK,REQ,POWR,POE,ELF,QTUM,ENG,BTS,AION,XMR,VIBE,SNT,KNC,ETC,MANA,VIB,LEND,SUB,OST,SALT,ZEC,ENJ,NEBL,HSR,NULS,LINK,BCD,LRC,WABI,TNB,GTO,ARK,TRIG,DASH,APPC,STRAT,MTL,SNGLS,MDA,INS,GVT,TNT,AST,BAT,BTG,MCO,CDT,LUN,ARN,AMB,WAVES,ADX,FUEL,BRD,RCN,XZC,MOD,NAV,EVX,DNT,KMD,BNT,ICN,BCPT,STORJ,DLT,EDO,WINGS,SNM,MTH,OAX,YOYO'.split(',')"
   ]
  },
  {
   "cell_type": "code",
   "execution_count": 50,
   "metadata": {},
   "outputs": [],
   "source": [
    "a = pd.read_csv('data_csv/data_ADA_KRW.csv').drop(['Unnamed: 0'], axis = 1)\n",
    "b = a"
   ]
  },
  {
   "cell_type": "code",
   "execution_count": 51,
   "metadata": {},
   "outputs": [],
   "source": [
    "#a['high-low'] = a.high - a.low"
   ]
  },
  {
   "cell_type": "code",
   "execution_count": 52,
   "metadata": {},
   "outputs": [],
   "source": [
    "#a['open-close'] = a.open - a.close"
   ]
  },
  {
   "cell_type": "code",
   "execution_count": 53,
   "metadata": {},
   "outputs": [
    {
     "name": "stdout",
     "output_type": "stream",
     "text": [
      "(501,)\n"
     ]
    }
   ],
   "source": [
    "close = np.array(a.close)\n",
    "volume = np.array(a.volumeto)\n",
    "print(close.shape)"
   ]
  },
  {
   "cell_type": "code",
   "execution_count": 54,
   "metadata": {},
   "outputs": [],
   "source": [
    "price_del = [(close[i+1]-close[i])/close[i] for i in range(len(close)-1)] + [None]"
   ]
  },
  {
   "cell_type": "code",
   "execution_count": 55,
   "metadata": {},
   "outputs": [],
   "source": [
    "volume_del = [(volume[i+1]-volume[i])/volume[i] for i in range(len(close)-1)] + [None]"
   ]
  },
  {
   "cell_type": "code",
   "execution_count": 56,
   "metadata": {},
   "outputs": [],
   "source": [
    "a['p_del'] = price_del\n",
    "a['v_del'] = volume_del"
   ]
  },
  {
   "cell_type": "code",
   "execution_count": 57,
   "metadata": {},
   "outputs": [],
   "source": [
    "a = a[['p_del', 'v_del']]\n",
    "#a['open-close'] = a['open-close']\n",
    "#a['high-low'] = a['high-low']"
   ]
  },
  {
   "cell_type": "markdown",
   "metadata": {},
   "source": [
    "making label"
   ]
  },
  {
   "cell_type": "code",
   "execution_count": 58,
   "metadata": {},
   "outputs": [],
   "source": [
    "label = []\n",
    "for i in range(500):\n",
    "    if (b.close[i+1] - b.close[i])/b.close[i] < -0:\n",
    "        label.append([1,0])\n",
    "    elif (b.close[i+1] - b.close[i])/b.close[i] > 0:\n",
    "        label.append([0,1])\n",
    "t_tr = np.array(label)"
   ]
  },
  {
   "cell_type": "code",
   "execution_count": 59,
   "metadata": {},
   "outputs": [],
   "source": [
    "x_tr = np.array(a)"
   ]
  },
  {
   "cell_type": "code",
   "execution_count": 74,
   "metadata": {},
   "outputs": [],
   "source": [
    "iters_num = 10000\n",
    "train_size = 486\n",
    "batch_size = 243\n",
    "learning_rate = 0.1"
   ]
  },
  {
   "cell_type": "code",
   "execution_count": 75,
   "metadata": {},
   "outputs": [],
   "source": [
    "net = Learning(insize = 2, hidsize = 100, outsize = 2)"
   ]
  },
  {
   "cell_type": "code",
   "execution_count": 76,
   "metadata": {},
   "outputs": [
    {
     "name": "stdout",
     "output_type": "stream",
     "text": [
      "calc 100.00% done. elapsed : 0h 0m 10s\r"
     ]
    }
   ],
   "source": [
    "now = time.time()\n",
    "train_loss = []\n",
    "moment = Momentum()\n",
    "#moment = Momentum()\n",
    "for i in range(iters_num):\n",
    "    slicing = np.random.choice(train_size, batch_size)\n",
    "    x_batch = x_tr[slicing]\n",
    "    t_batch = t_tr[slicing]\n",
    "    \n",
    "    gradient = net.grad_back(x_batch, t_batch)\n",
    "    \n",
    "    \n",
    "    moment.update(net.params, gradient)\n",
    "        \n",
    "    loss = net.loss(x_batch, t_batch)\n",
    "    train_loss.append(loss)\n",
    "    \n",
    "    elapsed_time = (time.time()-now)\n",
    "    second = elapsed_time%60\n",
    "    minute = elapsed_time//60%60\n",
    "    hour = elapsed_time//3600\n",
    "    \n",
    "    print('calc {0:.2f}% done. elapsed : {1:.0f}h {2:.0f}m {3:.0f}s'.format((i+1)*100/iters_num,hour, minute, second), end = '\\r')\n"
   ]
  },
  {
   "cell_type": "code",
   "execution_count": 77,
   "metadata": {},
   "outputs": [
    {
     "data": {
      "image/png": "[encoded data removed]",
      "text/plain": [
       "<matplotlib.figure.Figure at 0xb493898>"
      ]
     },
     "metadata": {},
     "output_type": "display_data"
    }
   ],
   "source": [
    "plt.plot(range(iters_num), train_loss)\n",
    "plt.xlabel('iteration')\n",
    "plt.ylabel('loss function value')\n",
    "plt.show()"
   ]
  },
  {
   "cell_type": "code",
   "execution_count": 38,
   "metadata": {},
   "outputs": [
    {
     "data": {
      "text/plain": [
       "0.6762051700036635"
      ]
     },
     "execution_count": 38,
     "metadata": {},
     "output_type": "execute_result"
    }
   ],
   "source": [
    "train_loss[400]"
   ]
  },
  {
   "cell_type": "code",
   "execution_count": null,
   "metadata": {},
   "outputs": [],
   "source": []
  }
 ],
 "metadata": {
  "kernelspec": {
   "display_name": "Python 3",
   "language": "python",
   "name": "python3"
  },
  "language_info": {
   "codemirror_mode": {
    "name": "ipython",
    "version": 3
   },
   "file_extension": ".py",
   "mimetype": "text/x-python",
   "name": "python",
   "nbconvert_exporter": "python",
   "pygments_lexer": "ipython3",
   "version": "3.6.4"
  }
 },
 "nbformat": 4,
 "nbformat_minor": 2
}
