{
 "cells": [
  {
   "cell_type": "markdown",
   "metadata": {},
   "source": [
    "### TF RNN stock price"
   ]
  },
  {
   "cell_type": "code",
   "execution_count": 1,
   "metadata": {},
   "outputs": [
    {
     "name": "stderr",
     "output_type": "stream",
     "text": [
      "C:\\Users\\SEO09\\Anaconda3\\lib\\site-packages\\h5py\\__init__.py:36: FutureWarning: Conversion of the second argument of issubdtype from `float` to `np.floating` is deprecated. In future, it will be treated as `np.float64 == np.dtype(float).type`.\n",
      "  from ._conv import register_converters as _register_converters\n"
     ]
    }
   ],
   "source": [
    "import os\n",
    "import tensorflow as tf\n",
    "import numpy as np\n",
    "import pandas as pd\n",
    "import matplotlib.pyplot as plt"
   ]
  },
  {
   "cell_type": "markdown",
   "metadata": {},
   "source": [
    "#### 다른 경로(crypto_trading)에서 가져오고 싶은데...가코드임"
   ]
  },
  {
   "cell_type": "code",
   "execution_count": 2,
   "metadata": {},
   "outputs": [],
   "source": [
    "os.chdir('C:\\\\Users\\\\SEO09\\\\python\\\\practice\\\\crypto_trading')"
   ]
  },
  {
   "cell_type": "code",
   "execution_count": 3,
   "metadata": {},
   "outputs": [],
   "source": [
    "with open('data_csv/data_ADA_KRW.csv') as f:\n",
    "    a = pd.read_csv(f).drop(['Unnamed: 0'], axis = 1)"
   ]
  },
  {
   "cell_type": "code",
   "execution_count": 4,
   "metadata": {},
   "outputs": [],
   "source": [
    "b = a.drop(['timestamp','time','volumefrom'], axis = 1)"
   ]
  },
  {
   "cell_type": "code",
   "execution_count": 5,
   "metadata": {},
   "outputs": [],
   "source": [
    "os.chdir('C:\\\\Users\\\\SEO09\\\\python\\\\practice\\\\machine_learning')"
   ]
  },
  {
   "cell_type": "markdown",
   "metadata": {},
   "source": [
    "#### 데이터 가져왔으니 돌려볼까?"
   ]
  },
  {
   "cell_type": "code",
   "execution_count": 6,
   "metadata": {},
   "outputs": [],
   "source": [
    "seq_length = 24\n",
    "data_dim = 4\n",
    "output_dim = 1 # 예상 가격을 출력\n",
    "hidden_dim = 20"
   ]
  },
  {
   "cell_type": "code",
   "execution_count": 7,
   "metadata": {},
   "outputs": [],
   "source": [
    "xy = np.array(b)*np.array([10000, 10000, 10000, 10000, 10e-3])\n",
    "x = xy[:,1:]\n",
    "y = xy[:,[0]]"
   ]
  },
  {
   "cell_type": "code",
   "execution_count": 8,
   "metadata": {},
   "outputs": [],
   "source": [
    "dataX = []\n",
    "dataY = []\n",
    "for i in range(len(y) - seq_length):\n",
    "    _x = x[i:i+seq_length]\n",
    "    _y = y[i+seq_length]\n",
    "    dataX.append(_x) # data with previous data\n",
    "    dataY.append(_y) # label"
   ]
  },
  {
   "cell_type": "code",
   "execution_count": 15,
   "metadata": {},
   "outputs": [],
   "source": [
    "train_size = int(len(dataY) * 0.7)\n",
    "test_size = len(dataY) - train_size\n",
    "\n",
    "trainX, testX = np.array(dataX[0:train_size]), np.array(dataX[train_size:len(dataX)])\n",
    "trainY, testY = np.array(dataY[0:train_size]), np.array(dataY[train_size:len(dataX)])"
   ]
  },
  {
   "cell_type": "code",
   "execution_count": 16,
   "metadata": {},
   "outputs": [
    {
     "data": {
      "text/plain": [
       "array([[5.915],\n",
       "       [6.176],\n",
       "       [6.168],\n",
       "       ...,\n",
       "       [4.062],\n",
       "       [4.081],\n",
       "       [4.051]])"
      ]
     },
     "execution_count": 16,
     "metadata": {},
     "output_type": "execute_result"
    }
   ],
   "source": [
    "trainY"
   ]
  },
  {
   "cell_type": "code",
   "execution_count": 10,
   "metadata": {
    "collapsed": true
   },
   "outputs": [],
   "source": [
    "X = tf.placeholder(tf.float32, [None, seq_length, data_dim])\n",
    "Y = tf.placeholder(tf.float32, [None,1])"
   ]
  },
  {
   "cell_type": "code",
   "execution_count": 11,
   "metadata": {
    "collapsed": true
   },
   "outputs": [],
   "source": [
    "cell = tf.contrib.rnn.BasicLSTMCell(num_units = hidden_dim, state_is_tuple = True)\n",
    "output, state = tf.nn.dynamic_rnn(cell, X, dtype = tf.float32)\n",
    "Y_pred = tf.contrib.layers.fully_connected(output[:,-1], output_dim, activation_fn = None)"
   ]
  },
  {
   "cell_type": "code",
   "execution_count": 12,
   "metadata": {
    "collapsed": true
   },
   "outputs": [],
   "source": [
    "loss = tf.reduce_sum(tf.square(Y_pred - Y))\n",
    "\n",
    "opt = tf.train.AdamOptimizer(0.01)\n",
    "train = opt.minimize(loss)"
   ]
  },
  {
   "cell_type": "code",
   "execution_count": 13,
   "metadata": {},
   "outputs": [
    {
     "name": "stdout",
     "output_type": "stream",
     "text": [
      "start learning\n",
      "initialized\n"
     ]
    }
   ],
   "source": [
    "print('start learning')\n",
    "sess = tf.Session()\n",
    "sess.run(tf.global_variables_initializer())\n",
    "print('initialized')"
   ]
  },
  {
   "cell_type": "code",
   "execution_count": 14,
   "metadata": {},
   "outputs": [
    {
     "name": "stdout",
     "output_type": "stream",
     "text": [
      "cycle 0 of 2000 done \n",
      "cycle 100 of 2000 done \n",
      "cycle 200 of 2000 done \n",
      "cycle 300 of 2000 done \n",
      "cycle 400 of 2000 done \n",
      "cycle 500 of 2000 done \n",
      "cycle 600 of 2000 done \n",
      "cycle 700 of 2000 done \n",
      "cycle 800 of 2000 done \n",
      "cycle 900 of 2000 done \n",
      "cycle 1000 of 2000 done \n",
      "cycle 1100 of 2000 done \n",
      "cycle 1200 of 2000 done \n",
      "cycle 1300 of 2000 done \n",
      "cycle 1400 of 2000 done \n",
      "cycle 1500 of 2000 done \n",
      "cycle 1600 of 2000 done \n",
      "cycle 1700 of 2000 done \n",
      "cycle 1800 of 2000 done \n",
      "cycle 1900 of 2000 done \n"
     ]
    }
   ],
   "source": [
    "for i in range(2000):\n",
    "    tr, l = sess.run([train, loss], feed_dict = {X: trainX, Y: trainY})\n",
    "    if i%100 == 0:\n",
    "        print('cycle {} of 2000 done \\r'.format(i))"
   ]
  },
  {
   "cell_type": "code",
   "execution_count": 15,
   "metadata": {
    "collapsed": true
   },
   "outputs": [],
   "source": [
    "testPred = sess.run(Y_pred, feed_dict = {X: testX})"
   ]
  },
  {
   "cell_type": "code",
   "execution_count": 16,
   "metadata": {},
   "outputs": [
    {
     "data": {
      "image/png": "[encoded data removed]",
      "text/plain": [
       "<matplotlib.figure.Figure at 0x16345208>"
      ]
     },
     "metadata": {},
     "output_type": "display_data"
    }
   ],
   "source": [
    "plt.plot(testY)\n",
    "plt.plot(testPred)\n",
    "plt.show()"
   ]
  },
  {
   "cell_type": "code",
   "execution_count": 43,
   "metadata": {
    "collapsed": true
   },
   "outputs": [],
   "source": [
    "os.chdir('C:\\\\Users\\\\SEO09\\\\python\\\\practice\\\\crypto_trading')\n",
    "\n",
    "with open('data_csv/data_LTC_KRW.csv') as f:\n",
    "    aa = pd.read_csv(f).drop(['Unnamed: 0'], axis = 1)\n",
    "    \n",
    "bb = aa.drop(['timestamp','time','volumefrom'], axis = 1)\n",
    "\n",
    "os.chdir('C:\\\\Users\\\\SEO09\\\\python\\\\practice\\\\machine_learning')\n",
    "\n",
    "xy3 = np.array(bb)*np.array([10,10,10,10,10e-3])\n",
    "x3 = xy3[:,1:]\n",
    "y3 = xy3[:,[0]]\n",
    "\n",
    "dataX3 = []\n",
    "dataY3 = []\n",
    "for i in range(len(y) - seq_length):\n",
    "    _x = x3[i:i+seq_length]\n",
    "    _y = y3[i+seq_length]\n",
    "    dataX3.append(_x) # data with previous data\n",
    "    dataY3.append(_y) # label\n",
    "    \n",
    "testX3 = np.array(dataX3)\n",
    "testY3 = np.array(dataY3)\n",
    "\n",
    "testPred3 = sess.run(Y_pred, feed_dict = {X: testX3})\n",
    "\n",
    "plt.close()"
   ]
  },
  {
   "cell_type": "code",
   "execution_count": 47,
   "metadata": {},
   "outputs": [
    {
     "data": {
      "image/png": "[encoded data removed]",
      "text/plain": [
       "<matplotlib.figure.Figure at 0x1ac316d8>"
      ]
     },
     "metadata": {},
     "output_type": "display_data"
    }
   ],
   "source": [
    "plt.plot(testY3)\n",
    "plt.plot(testPred3)\n",
    "plt.grid(True)\n",
    "plt.show()"
   ]
  },
  {
   "cell_type": "markdown",
   "metadata": {},
   "source": [
    "#### ADA로 학습한 결과가 LTC에 대해서도 들어맞음을 보임"
   ]
  },
  {
   "cell_type": "code",
   "execution_count": null,
   "metadata": {
    "collapsed": true
   },
   "outputs": [],
   "source": [
    "class Coin:\n",
    "    def __init__(self, coin):\n",
    "        \n",
    "        self.coin = coin\n",
    "        \n",
    "        import os\n",
    "        os.chdir('C:\\\\Users\\\\SEO09\\\\python\\\\practice\\\\crypto_trading')\n",
    "        with open('data_csv/data_{}_KRW.csv'.format(self.coin)) as f:\n",
    "            a = pd.read_csv(f).drop(['Unnamed: 0'], axis = 1)\n",
    "        b = a.drop(['timestamp','time','volumefrom'], axis = 1)\n",
    "        os.chdir('C:\\\\Users\\\\SEO09\\\\python\\\\practice\\\\machine_learning')\n",
    "        \n",
    "        self.table = b\n",
    "    \n",
    "    def process(self):\n",
    "        import numpy as np\n",
    "        xy = np.array(self.table)\n",
    "        "
   ]
  }
 ],
 "metadata": {
  "kernelspec": {
   "display_name": "Python 3",
   "language": "python",
   "name": "python3"
  },
  "language_info": {
   "codemirror_mode": {
    "name": "ipython",
    "version": 3
   },
   "file_extension": ".py",
   "mimetype": "text/x-python",
   "name": "python",
   "nbconvert_exporter": "python",
   "pygments_lexer": "ipython3",
   "version": "3.6.4"
  }
 },
 "nbformat": 4,
 "nbformat_minor": 2
}
