{
 "cells": [
  {
   "cell_type": "code",
   "execution_count": 1,
   "metadata": {},
   "outputs": [],
   "source": [
    "import sys, os\n",
    "sys.path.append(os.pardir)\n",
    "from common.functions import *\n",
    "from common.gradient import numerical_gradient as numgrad\n",
    "import time"
   ]
  },
  {
   "cell_type": "code",
   "execution_count": 2,
   "metadata": {},
   "outputs": [],
   "source": [
    "class Simple:\n",
    "    \n",
    "    def __init__(self, input_size, hidden_size, output_size, weight_init_std = 0.01):\n",
    "        self.params = {}\n",
    "        self.params['W1'] = weight_init_std * np.random.randn(input_size, hidden_size)\n",
    "        self.params['W2'] = weight_init_std * np.random.randn(hidden_size, output_size)\n",
    "        self.params['b1'] = np.zeros(hidden_size)\n",
    "        self.params['b2'] = np.zeros(output_size)\n",
    "        \n",
    "    def predict(self, x):\n",
    "        W1, W2 = self.params['W1'], self.params['W2']\n",
    "        b1, b2 = self.params['b1'], self.params['b2']\n",
    "        \n",
    "        layer_1 = sigmoid(np.dot(x, W1) + b1)\n",
    "        layer_2 = softmax(np.dot(layer_1, W2) + b2)\n",
    "        \n",
    "        output = layer_2\n",
    "        \n",
    "        return output\n",
    "    \n",
    "    def loss(self, x, t):\n",
    "        y = self.predict(x)\n",
    "        \n",
    "        lossfunc = cross_entropy_error(y, t)\n",
    "        \n",
    "        return lossfunc\n",
    "    \n",
    "    def grad(self, x, t):\n",
    "        loss_W = lambda W: self.loss(x, t)\n",
    "        \n",
    "        grads = {}\n",
    "        grads['W1'] = numgrad(loss_W, self.params['W1'])\n",
    "        grads['W2'] = numgrad(loss_W, self.params['W2'])\n",
    "        grads['b1'] = numgrad(loss_W, self.params['b1'])\n",
    "        grads['b2'] = numgrad(loss_W, self.params['b2'])\n",
    "        \n",
    "        return grads"
   ]
  },
  {
   "cell_type": "code",
   "execution_count": 3,
   "metadata": {},
   "outputs": [],
   "source": [
    "import numpy as np\n",
    "from dataset.mnist import load_mnist as load"
   ]
  },
  {
   "cell_type": "code",
   "execution_count": 4,
   "metadata": {},
   "outputs": [],
   "source": [
    "(x_tr, t_tr), (x_te, t_te) = load()\n",
    "\n",
    "train_loss = []"
   ]
  },
  {
   "cell_type": "code",
   "execution_count": 5,
   "metadata": {},
   "outputs": [],
   "source": [
    "iters_num = 1000\n",
    "train_size = x_tr.shape[0]\n",
    "batch_size = 30\n",
    "learning_rate = 0.1"
   ]
  },
  {
   "cell_type": "code",
   "execution_count": 6,
   "metadata": {},
   "outputs": [],
   "source": [
    "net = Simple(input_size = 784, hidden_size = 50, output_size = 10)"
   ]
  },
  {
   "cell_type": "code",
   "execution_count": 7,
   "metadata": {},
   "outputs": [
    {
     "name": "stdout",
     "output_type": "stream",
     "text": [
      "calc 100.0% done. elapsed : 2h 135m 8s\r"
     ]
    }
   ],
   "source": [
    "now = time.time()\n",
    "\n",
    "for i in range(iters_num):\n",
    "    slicing = np.random.choice(train_size, batch_size)\n",
    "    x_batch = x_tr[slicing]\n",
    "    t_batch = t_tr[slicing]\n",
    "    \n",
    "    gradient = net.grad(x_batch, t_batch)\n",
    "    \n",
    "    for key in ['W1', 'W2', 'b1', 'b2']:\n",
    "        net.params[key] -= learning_rate * gradient[key]\n",
    "        \n",
    "    loss = net.loss(x_batch, t_batch)\n",
    "    train_loss.append(loss)\n",
    "    \n",
    "    elapsed_time = (time.time()-now)//1\n",
    "    second = elapsed_time%60\n",
    "    minute = elapsed_time//60%60\n",
    "    hour = elapsed_time//3600\n",
    "    \n",
    "    print('calc {0}% done. elapsed : {1:.0f}h {2:.0f}m {3:.0f}s'.format((i+1)*100/iters_num,hour, minute, second), end = '\\r')\n",
    "    \n"
   ]
  },
  {
   "cell_type": "code",
   "execution_count": 8,
   "metadata": {},
   "outputs": [],
   "source": [
    "import pickle\n",
    "with open('common/param_dict.pkl', 'wb') as f:\n",
    "    pickle.dump(net.params, f)"
   ]
  },
  {
   "cell_type": "code",
   "execution_count": 10,
   "metadata": {},
   "outputs": [
    {
     "data": {
      "image/png": "[encoded data removed]",
      "text/plain": [
       "<matplotlib.figure.Figure at 0x32ac630>"
      ]
     },
     "metadata": {},
     "output_type": "display_data"
    }
   ],
   "source": [
    "import matplotlib.pyplot as plt\n",
    "\n",
    "plt.plot(range(iters_num), train_loss)\n",
    "plt.show()"
   ]
  },
  {
   "cell_type": "code",
   "execution_count": null,
   "metadata": {},
   "outputs": [],
   "source": []
  },
  {
   "cell_type": "code",
   "execution_count": null,
   "metadata": {},
   "outputs": [],
   "source": []
  }
 ],
 "metadata": {
  "kernelspec": {
   "display_name": "Python 3",
   "language": "python",
   "name": "python3"
  },
  "language_info": {
   "codemirror_mode": {
    "name": "ipython",
    "version": 3
   },
   "file_extension": ".py",
   "mimetype": "text/x-python",
   "name": "python",
   "nbconvert_exporter": "python",
   "pygments_lexer": "ipython3",
   "version": "3.6.4"
  }
 },
 "nbformat": 4,
 "nbformat_minor": 2
}
