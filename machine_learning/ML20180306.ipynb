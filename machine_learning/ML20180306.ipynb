{
 "cells": [
  {
   "cell_type": "markdown",
   "metadata": {},
   "source": [
    "# 딥러닝"
   ]
  },
  {
   "cell_type": "markdown",
   "metadata": {},
   "source": [
    "노트 필기 및 보고서 작성 잘 하세요(학기말에 보고서 제출해야 함)"
   ]
  },
  {
   "cell_type": "markdown",
   "metadata": {},
   "source": [
    "교재 : http://www.hanbit.co.kr/store/books/look.php?p_code=B8475831198"
   ]
  },
  {
   "cell_type": "code",
   "execution_count": 7,
   "metadata": {
    "collapsed": false
   },
   "outputs": [
    {
     "name": "stdout",
     "output_type": "stream",
     "text": [
      "input number: 3\n",
      "3 times 1 = 3\n",
      "3 times 2 = 6\n",
      "3 times 3 = 9\n",
      "3 times 4 = 12\n",
      "3 times 5 = 15\n",
      "3 times 6 = 18\n",
      "3 times 7 = 21\n",
      "3 times 8 = 24\n",
      "3 times 9 = 27\n"
     ]
    }
   ],
   "source": [
    "num = int(input('input number: '))\n",
    "\n",
    "for i in range(1,10):\n",
    "    print(num, 'times {} = {}'.format(i, num*i))"
   ]
  },
  {
   "cell_type": "markdown",
   "metadata": {},
   "source": [
    "#데이터 : 타입, 변수, 주소, 값 을 가짐\n",
    "#type : int, flaot, char, str, bool, address(@) 등\n",
    "#float 저장할 때 +0.314 * 10^(+1) 처럼 정규화시켜 저장함\n",
    "#python : (선언부 입력부) (계산부 출력부)"
   ]
  },
  {
   "cell_type": "markdown",
   "metadata": {},
   "source": []
  },
  {
   "cell_type": "code",
   "execution_count": 15,
   "metadata": {
    "collapsed": false
   },
   "outputs": [
    {
     "data": {
      "text/plain": [
       "<generator object <genexpr> at 0x105f13e60>"
      ]
     },
     "execution_count": 15,
     "metadata": {},
     "output_type": "execute_result"
    }
   ],
   "source": [
    "a = (i for i in range(10))\n",
    "a"
   ]
  },
  {
   "cell_type": "markdown",
   "metadata": {},
   "source": [
    "#0x105f13e60가 주소인 듯"
   ]
  },
  {
   "cell_type": "code",
   "execution_count": null,
   "metadata": {
    "collapsed": true
   },
   "outputs": [],
   "source": []
  }
 ],
 "metadata": {
  "kernelspec": {
   "display_name": "Python 3",
   "language": "python",
   "name": "python3"
  },
  "language_info": {
   "codemirror_mode": {
    "name": "ipython",
    "version": 3
   },
   "file_extension": ".py",
   "mimetype": "text/x-python",
   "name": "python",
   "nbconvert_exporter": "python",
   "pygments_lexer": "ipython3",
   "version": "3.6.0"
  }
 },
 "nbformat": 4,
 "nbformat_minor": 2
}
