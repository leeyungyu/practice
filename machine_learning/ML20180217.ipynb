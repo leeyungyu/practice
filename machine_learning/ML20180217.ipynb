{
 "cells": [
  {
   "cell_type": "markdown",
   "metadata": {},
   "source": [
    "# 머신러닝 연습"
   ]
  },
  {
   "cell_type": "markdown",
   "metadata": {},
   "source": [
    "pip install tensorflow로 텐서플로 설치. 경사하강 라이브러리임"
   ]
  },
  {
   "cell_type": "code",
   "execution_count": 1,
   "metadata": {
    "collapsed": true
   },
   "outputs": [],
   "source": [
    "import tensorflow as tf"
   ]
  },
  {
   "cell_type": "code",
   "execution_count": 3,
   "metadata": {
    "collapsed": true
   },
   "outputs": [],
   "source": [
    "hello = tf.constant('hello world')\n",
    "sess = tf.Session()"
   ]
  },
  {
   "cell_type": "code",
   "execution_count": 4,
   "metadata": {
    "collapsed": false
   },
   "outputs": [
    {
     "data": {
      "text/plain": [
       "b'hello world'"
      ]
     },
     "execution_count": 4,
     "metadata": {},
     "output_type": "execute_result"
    }
   ],
   "source": [
    "sess.run(hello)"
   ]
  },
  {
   "cell_type": "markdown",
   "metadata": {},
   "source": [
    "b 는 바이트를 뜻함."
   ]
  },
  {
   "cell_type": "markdown",
   "metadata": {},
   "source": [
    "## 학습 : 가장 합리적인 선형회귀 모델을 만든다는 뜻"
   ]
  },
  {
   "cell_type": "markdown",
   "metadata": {},
   "source": [
    "cost function = (예측 - 실제)**2 의 평균. 소소익선"
   ]
  },
  {
   "cell_type": "code",
   "execution_count": 5,
   "metadata": {
    "collapsed": true
   },
   "outputs": [],
   "source": [
    "xData = [1,2,3,4,5,6,7]\n",
    "yData = [25, 55, 75, 110, 128, 155, 180]"
   ]
  },
  {
   "cell_type": "code",
   "execution_count": 8,
   "metadata": {
    "collapsed": true
   },
   "outputs": [],
   "source": [
    "W = tf.Variable(tf.random_uniform([1], -100, 100)) # -100부터 100까지 랜덤한 변수. W는 가중치\n",
    "B = tf.Variable(tf.random_uniform([1], -100, 100)) # -100부터 100까지 랜덤한 변수. B는 절편\n",
    "X = tf.placeholder(tf.float32)\n",
    "Y = tf.placeholder(tf.float32)"
   ]
  },
  {
   "cell_type": "code",
   "execution_count": 11,
   "metadata": {
    "collapsed": true
   },
   "outputs": [],
   "source": [
    "H = W*X + B # H는 예측값, Y는 실제값"
   ]
  },
  {
   "cell_type": "code",
   "execution_count": 12,
   "metadata": {
    "collapsed": true
   },
   "outputs": [],
   "source": [
    "cost = tf.reduce_mean(tf.square(H-Y))"
   ]
  },
  {
   "cell_type": "code",
   "execution_count": 13,
   "metadata": {
    "collapsed": true
   },
   "outputs": [],
   "source": [
    "a = tf.Variable(0.01) # 경사하강의 정도?"
   ]
  },
  {
   "cell_type": "code",
   "execution_count": 14,
   "metadata": {
    "collapsed": true
   },
   "outputs": [],
   "source": [
    "opt = tf.train.GradientDescentOptimizer(a)"
   ]
  },
  {
   "cell_type": "code",
   "execution_count": 15,
   "metadata": {
    "collapsed": true
   },
   "outputs": [],
   "source": [
    "train = opt.minimize(cost)"
   ]
  },
  {
   "cell_type": "code",
   "execution_count": 16,
   "metadata": {
    "collapsed": true
   },
   "outputs": [],
   "source": [
    "init = tf.global_variables_initializer()\n",
    "sess = tf.Session()\n",
    "sess.run(init) # 초기화"
   ]
  },
  {
   "cell_type": "code",
   "execution_count": 21,
   "metadata": {
    "collapsed": false
   },
   "outputs": [
    {
     "name": "stdout",
     "output_type": "stream",
     "text": [
      "학습횟수:0, 비용함수:8.632661819458008, W:[25.642845], B:[1.4286232]\n",
      "학습횟수:500, 비용함수:8.632661819458008, W:[25.642845], B:[1.4286232]\n",
      "학습횟수:1000, 비용함수:8.632661819458008, W:[25.642845], B:[1.4286232]\n",
      "학습횟수:1500, 비용함수:8.632661819458008, W:[25.642845], B:[1.4286232]\n",
      "학습횟수:2000, 비용함수:8.632661819458008, W:[25.642845], B:[1.4286232]\n",
      "학습횟수:2500, 비용함수:8.632661819458008, W:[25.642845], B:[1.4286232]\n",
      "학습횟수:3000, 비용함수:8.632661819458008, W:[25.642845], B:[1.4286232]\n",
      "학습횟수:3500, 비용함수:8.632661819458008, W:[25.642845], B:[1.4286232]\n",
      "학습횟수:4000, 비용함수:8.632661819458008, W:[25.642845], B:[1.4286232]\n",
      "학습횟수:4500, 비용함수:8.632661819458008, W:[25.642845], B:[1.4286232]\n",
      "학습횟수:5000, 비용함수:8.632661819458008, W:[25.642845], B:[1.4286232]\n"
     ]
    }
   ],
   "source": [
    "for i in  range(5001):\n",
    "    sess.run(train, feed_dict = {X : xData, Y : yData})\n",
    "    if i%500 == 0:\n",
    "        print('학습횟수:{}, 비용함수:{}, W:{}, B:{}'.format(i, sess.run(cost, feed_dict = {X : xData, Y : yData}), sess.run(W), sess.run(B)))\n",
    "        \n",
    "        \n",
    "        "
   ]
  },
  {
   "cell_type": "code",
   "execution_count": 23,
   "metadata": {
    "collapsed": false
   },
   "outputs": [
    {
     "data": {
      "text/plain": [
       "array([206.57138], dtype=float32)"
      ]
     },
     "execution_count": 23,
     "metadata": {},
     "output_type": "execute_result"
    }
   ],
   "source": [
    "sess.run(H, feed_dict = {X : [8]}) # 변수가 8일때, 예상되는 Y값은?"
   ]
  },
  {
   "cell_type": "code",
   "execution_count": null,
   "metadata": {
    "collapsed": true
   },
   "outputs": [],
   "source": []
  }
 ],
 "metadata": {
  "kernelspec": {
   "display_name": "Python 3",
   "language": "python",
   "name": "python3"
  },
  "language_info": {
   "codemirror_mode": {
    "name": "ipython",
    "version": 3
   },
   "file_extension": ".py",
   "mimetype": "text/x-python",
   "name": "python",
   "nbconvert_exporter": "python",
   "pygments_lexer": "ipython3",
   "version": "3.6.0"
  }
 },
 "nbformat": 4,
 "nbformat_minor": 2
}
