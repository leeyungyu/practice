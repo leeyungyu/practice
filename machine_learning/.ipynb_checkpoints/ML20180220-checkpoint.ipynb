{
 "cells": [
  {
   "cell_type": "markdown",
   "metadata": {},
   "source": [
    "# 텍스트 판단"
   ]
  },
  {
   "cell_type": "markdown",
   "metadata": {},
   "source": [
    "### 파일 리스트 반환"
   ]
  },
  {
   "cell_type": "code",
   "execution_count": 25,
   "metadata": {
    "collapsed": true
   },
   "outputs": [],
   "source": [
    "import os\n",
    "\n",
    "def get_file_list(dir_name):\n",
    "    return os.listdir(dir_name)"
   ]
  },
  {
   "cell_type": "code",
   "execution_count": 28,
   "metadata": {
    "collapsed": true
   },
   "outputs": [],
   "source": [
    "if __name__ == '__main__': # 만약 쉘이 해당 경로에서 돌 경우\n",
    "    dir_name = 'texts'\n",
    "    file_list = get_file_list(dir_name)\n",
    "    file_list = [os.path.join(dir_name, file_name) for file_name in file_list]\n",
    "    "
   ]
  },
  {
   "cell_type": "code",
   "execution_count": 30,
   "metadata": {
    "collapsed": false
   },
   "outputs": [
    {
     "name": "stdout",
     "output_type": "stream",
     "text": [
      "['texts/example2', 'texts/example.txt']\n"
     ]
    }
   ],
   "source": [
    "print(file_list) # .join으로 /을 이용해 붙임"
   ]
  },
  {
   "cell_type": "code",
   "execution_count": 40,
   "metadata": {
    "collapsed": false
   },
   "outputs": [],
   "source": [
    "def get_contents(file_list):\n",
    "    y_class = []\n",
    "    x_text = []\n",
    "    class_dict = {1:'0',2:'0',3:'0',4:'0',5:'1',6:'1',7:'1',8:'1'}\n",
    "    \n",
    "    for file_name in file_list:\n",
    "    \n",
    "        try:\n",
    "            f = open(file_name, 'r', encoding = 'cp949')\n",
    "            # 맨 앞의 숫자로 카테고리화 한다.\n",
    "            category = int(file_name.split(os.sep)[1].split('_')[0])\n",
    "            # 카테고리의 value를 append\n",
    "            y_class.append(class_dict[category])\n",
    "            # 문서(f)를 append\n",
    "            x_text.append(f.read())\n",
    "            f.close()\n",
    "            \n",
    "        except UnicodeDecodeError as e: # 디코딩 에러\n",
    "            print('{}, {}'.format(e, file_name))\n",
    "        \n",
    "        return x_text, y_class"
   ]
  },
  {
   "cell_type": "markdown",
   "metadata": {},
   "source": [
    "### 텍스트 주무르기"
   ]
  },
  {
   "cell_type": "markdown",
   "metadata": {},
   "source": [
    "텍스트는\n",
    "1 어쩌구\n",
    "2 저쩌구\n",
    "3 자시고\n",
    "꼴로 반환된다(즉, 문장별로)"
   ]
  },
  {
   "cell_type": "code",
   "execution_count": 41,
   "metadata": {
    "collapsed": true
   },
   "outputs": [],
   "source": [
    "def get_cleaned_text(text):\n",
    "    import re\n",
    "    text = re.sub('\\W+', '', text.lower()) # remove useless stuff\n",
    "    return text"
   ]
  },
  {
   "cell_type": "code",
   "execution_count": 43,
   "metadata": {
    "collapsed": true
   },
   "outputs": [],
   "source": [
    "def get_corpus_dict(text): # 문단 집어넣기\n",
    "    text = [sentence.split() for sentence in text] # 문단의 각 문장을 단어들로 쪼갬. 2차원 리스트 배열로 만듬.\n",
    "    cleaned_words = [get_cleaned_text(word) for words in text for word in words]\n",
    "    \n",
    "    from collections import OrderedDict as OD\n",
    "    corpus_dict = OD()    \n",
    "    for i, v in enumerate(set(cleaned_words)):\n",
    "        corpus_dict[v] += i # 애매함..\n",
    "    return corpus_dict\n",
    "    "
   ]
  },
  {
   "cell_type": "code",
   "execution_count": null,
   "metadata": {
    "collapsed": true
   },
   "outputs": [],
   "source": []
  },
  {
   "cell_type": "code",
   "execution_count": null,
   "metadata": {
    "collapsed": true
   },
   "outputs": [],
   "source": []
  }
 ],
 "metadata": {
  "kernelspec": {
   "display_name": "Python 3",
   "language": "python",
   "name": "python3"
  },
  "language_info": {
   "codemirror_mode": {
    "name": "ipython",
    "version": 3
   },
   "file_extension": ".py",
   "mimetype": "text/x-python",
   "name": "python",
   "nbconvert_exporter": "python",
   "pygments_lexer": "ipython3",
   "version": "3.6.0"
  }
 },
 "nbformat": 4,
 "nbformat_minor": 2
}
