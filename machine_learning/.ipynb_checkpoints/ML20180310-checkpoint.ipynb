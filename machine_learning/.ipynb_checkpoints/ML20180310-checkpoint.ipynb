{
 "cells": [
  {
   "cell_type": "markdown",
   "metadata": {},
   "source": [
    "# 손글씨 인식"
   ]
  },
  {
   "cell_type": "markdown",
   "metadata": {},
   "source": [
    "MNIST dataset : 글씨인식 연습 데이터"
   ]
  },
  {
   "cell_type": "code",
   "execution_count": 16,
   "metadata": {
    "collapsed": true
   },
   "outputs": [],
   "source": [
    "import sys, os\n",
    "import pickle\n",
    "import numpy as np"
   ]
  },
  {
   "cell_type": "code",
   "execution_count": 17,
   "metadata": {
    "collapsed": false
   },
   "outputs": [],
   "source": [
    "sys.path.append(os.pardir)\n",
    "from dataset.mnist import load_mnist"
   ]
  },
  {
   "cell_type": "code",
   "execution_count": 18,
   "metadata": {
    "collapsed": false
   },
   "outputs": [],
   "source": [
    "(x_train, t_train), (x_test, t_test) = load_mnist(flatten = True, normalize = False)\n",
    "# 훈련이미지, 훈련라벨, 테스트이미지, 테스트라벨"
   ]
  },
  {
   "cell_type": "markdown",
   "metadata": {},
   "source": [
    "pkl(pickle) 검색해보기"
   ]
  },
  {
   "cell_type": "code",
   "execution_count": 21,
   "metadata": {
    "collapsed": true
   },
   "outputs": [],
   "source": [
    "def sigmoid(x):\n",
    "    return 1/(1+np.exp(-x))\n",
    "\n",
    "def softmax(a):\n",
    "    import numpy as np\n",
    "    \n",
    "    fix = np.max(a)\n",
    "    \n",
    "    exp_a = np.exp(a-fix)\n",
    "    sum_exp = np.sum(exp_a)\n",
    "    \n",
    "    return exp_a / sum_exp\n",
    "\n",
    "def get_data():\n",
    "    (x_train, t_train), (x_test, t_test) = load_mnist(one_hot_label = False)\n",
    "    \n",
    "    return x_test, t_test\n",
    "\n",
    "def init_network():\n",
    "    with open('dataset/sample_weight.pkl', 'rb') as f:\n",
    "        network = pickle.load(f) # 가중치 및 역치는 임의로 설정되어 있음\n",
    "    \n",
    "    return network\n",
    "\n",
    "def predict(network, x):\n",
    "    W1, W2, W3 = network['W1'], network['W2'], network['W3']\n",
    "    b1, b2, b3 = network['b1'], network['b2'], network['b3']\n",
    "    \n",
    "    a1 = sigmoid(np.dot(x, W1) + b1)\n",
    "    a2 = sigmoid(np.dot(a1, W2) + b2)\n",
    "    a3 = softmax(np.dot(a2, W3) + b3)\n",
    "    \n",
    "    return a3"
   ]
  },
  {
   "cell_type": "code",
   "execution_count": 23,
   "metadata": {
    "collapsed": false
   },
   "outputs": [
    {
     "name": "stdout",
     "output_type": "stream",
     "text": [
      "Accuract is 0.9352\n"
     ]
    }
   ],
   "source": [
    "x, t = get_data() # 이미지와 라벨을 각각 리스트로 불러옴\n",
    "network = init_network()\n",
    "\n",
    "acc = 0\n",
    "\n",
    "for i in range(len(x)):\n",
    "    y = predict(network, x[i]) # i번째 사진에 대해\n",
    "    p = np.argmax(y) # 출력 중 가장 높은 값(확률)을 가지는 숫자의 인덱스를 뽑아보고\n",
    "    \n",
    "    if p == t[i]: # 그 인덱스가 라벨의 인덱스와 일치할 경우(아마 라벨 = 숫자-1 인 듯)\n",
    "        \n",
    "        acc += 1 # 정확도 +1\n",
    "        \n",
    "print('Accuract is ' + str(float(acc)/len(x)))"
   ]
  },
  {
   "cell_type": "code",
   "execution_count": null,
   "metadata": {
    "collapsed": true
   },
   "outputs": [],
   "source": []
  }
 ],
 "metadata": {
  "kernelspec": {
   "display_name": "Python 3",
   "language": "python",
   "name": "python3"
  },
  "language_info": {
   "codemirror_mode": {
    "name": "ipython",
    "version": 3
   },
   "file_extension": ".py",
   "mimetype": "text/x-python",
   "name": "python",
   "nbconvert_exporter": "python",
   "pygments_lexer": "ipython3",
   "version": "3.6.0"
  }
 },
 "nbformat": 4,
 "nbformat_minor": 2
}
