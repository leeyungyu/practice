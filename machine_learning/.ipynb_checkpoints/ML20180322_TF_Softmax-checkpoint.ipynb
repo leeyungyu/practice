{
 "cells": [
  {
   "cell_type": "markdown",
   "metadata": {},
   "source": [
    "### Softmax Regression"
   ]
  },
  {
   "cell_type": "code",
   "execution_count": 11,
   "metadata": {},
   "outputs": [],
   "source": [
    "import tensorflow as tf\n",
    "import numpy as np\n",
    "import matplotlib.pyplot as plt"
   ]
  },
  {
   "cell_type": "markdown",
   "metadata": {},
   "source": [
    "#### softmax란? 점수를 '역전파 쉬운'확률함수로."
   ]
  },
  {
   "cell_type": "markdown",
   "metadata": {},
   "source": [
    "* hyp = tf.nn.softmax(tf.matmul(X,W) + b)\n",
    "* cross entropy cost function이 더 쓸모있음."
   ]
  },
  {
   "cell_type": "code",
   "execution_count": 19,
   "metadata": {},
   "outputs": [],
   "source": [
    "xy = np.loadtxt('csvs/zoo.csv', delimiter = ',', dtype = np.float32)\n",
    "x_data = xy[:,:-1] # 101 * 16 행렬\n",
    "y_data = xy[:, [-1]] # 101 * 1 행렬"
   ]
  },
  {
   "cell_type": "markdown",
   "metadata": {},
   "source": [
    "#### 각 열은 동물의 특징을 나타냄"
   ]
  },
  {
   "cell_type": "markdown",
   "metadata": {},
   "source": [
    "* 라벨 Y는 0부터 6까지의 숫자(각각 동물 카테고리)\n",
    "* 라벨 X는 독이 있는가? 날개가 있는가? 따위의 boolean 결과"
   ]
  },
  {
   "cell_type": "code",
   "execution_count": 22,
   "metadata": {},
   "outputs": [
    {
     "name": "stdout",
     "output_type": "stream",
     "text": [
      "Y_one_hot:  Tensor(\"one_hot_6:0\", shape=(?, 1, 7), dtype=float32)\n",
      "Y_one_hot_reshape:  Tensor(\"Reshape_2:0\", shape=(?, 7), dtype=float32)\n"
     ]
    }
   ],
   "source": [
    "nb_classes = 7\n",
    "\n",
    "X = tf.placeholder(tf.float32, [None, 16])\n",
    "Y = tf.placeholder(tf.int32, [None, 1])\n",
    "Y_one_hot = tf.one_hot(Y, nb_classes)\n",
    "print('Y_one_hot: ', Y_one_hot)\n",
    "Y_one_hot = tf.reshape(Y_one_hot, [-1, nb_classes])\n",
    "print('Y_one_hot_reshape: ', Y_one_hot)"
   ]
  },
  {
   "cell_type": "markdown",
   "metadata": {},
   "source": [
    "#### one hot 이란? 값을 다차원 행렬로 변환해 줌."
   ]
  },
  {
   "cell_type": "code",
   "execution_count": 23,
   "metadata": {},
   "outputs": [],
   "source": [
    "indices = [2,3,1]\n",
    "depth = 4\n",
    "a = tf.one_hot(indices, depth)"
   ]
  },
  {
   "cell_type": "markdown",
   "metadata": {},
   "source": [
    "* 2를 [0,0,1,0], 3을 [0,0,0,1] 따위로 변환해주는 식\n",
    "* reshape의 -1은 먼저 정해진 행/렬대로 배치함. 예를 들어 t가 1X18 행렬이면, tf.reshape(t,[-1,6])은 3X6행렬을 반환함"
   ]
  },
  {
   "cell_type": "code",
   "execution_count": 24,
   "metadata": {},
   "outputs": [],
   "source": [
    "W = tf.Variable(tf.random_normal([16, nb_classes]), name='weight')\n",
    "b = tf.Variable(tf.random_normal([nb_classes]), name='bias')"
   ]
  },
  {
   "cell_type": "code",
   "execution_count": 25,
   "metadata": {},
   "outputs": [
    {
     "name": "stdout",
     "output_type": "stream",
     "text": [
      "WARNING:tensorflow:From <ipython-input-25-a4765995154a>:4: softmax_cross_entropy_with_logits (from tensorflow.python.ops.nn_ops) is deprecated and will be removed in a future version.\n",
      "Instructions for updating:\n",
      "\n",
      "Future major versions of TensorFlow will allow gradients to flow\n",
      "into the labels input on backprop by default.\n",
      "\n",
      "See tf.nn.softmax_cross_entropy_with_logits_v2.\n",
      "\n"
     ]
    }
   ],
   "source": [
    "logits = tf.matmul(X, W) + b\n",
    "hyp = tf.nn.softmax(logits)\n",
    "\n",
    "cost_i = tf.nn.softmax_cross_entropy_with_logits(logits=logits, labels=Y_one_hot)\n",
    "cost = tf.reduce_mean(cost_i)\n",
    "\n",
    "optimizer = tf.train.GradientDescentOptimizer(learning_rate=0.1).minimize(cost)"
   ]
  },
  {
   "cell_type": "code",
   "execution_count": 26,
   "metadata": {},
   "outputs": [],
   "source": [
    "prediction = tf.argmax(hyp, 1) # 열방향이라 1\n",
    "correct_prediction = tf.equal(prediction, tf.argmax(Y_one_hot, 1))\n",
    "accuracy = tf.reduce_mean(tf.cast(correct_prediction, tf.float32))"
   ]
  },
  {
   "cell_type": "code",
   "execution_count": 31,
   "metadata": {},
   "outputs": [
    {
     "name": "stdout",
     "output_type": "stream",
     "text": [
      "Step:     0\tLoss: 3.291\tAcc: 5.94%\n",
      "Step:   100\tLoss: 0.655\tAcc: 84.16%\n",
      "Step:   200\tLoss: 0.440\tAcc: 87.13%\n",
      "Step:   300\tLoss: 0.336\tAcc: 90.10%\n",
      "Step:   400\tLoss: 0.272\tAcc: 92.08%\n",
      "Step:   500\tLoss: 0.227\tAcc: 96.04%\n",
      "Step:   600\tLoss: 0.195\tAcc: 99.01%\n",
      "Step:   700\tLoss: 0.171\tAcc: 99.01%\n",
      "Step:   800\tLoss: 0.152\tAcc: 99.01%\n",
      "Step:   900\tLoss: 0.137\tAcc: 99.01%\n",
      "Step:  1000\tLoss: 0.124\tAcc: 99.01%\n",
      "Step:  1100\tLoss: 0.114\tAcc: 99.01%\n",
      "Step:  1200\tLoss: 0.104\tAcc: 99.01%\n",
      "Step:  1300\tLoss: 0.096\tAcc: 99.01%\n",
      "Step:  1400\tLoss: 0.090\tAcc: 99.01%\n",
      "Step:  1500\tLoss: 0.083\tAcc: 99.01%\n",
      "Step:  1600\tLoss: 0.078\tAcc: 99.01%\n",
      "Step:  1700\tLoss: 0.073\tAcc: 99.01%\n",
      "Step:  1800\tLoss: 0.069\tAcc: 99.01%\n",
      "Step:  1900\tLoss: 0.065\tAcc: 100.00%\n",
      "[True] Prediction: 0 True label: 0\n",
      "[True] Prediction: 0 True label: 0\n",
      "[True] Prediction: 3 True label: 3\n",
      "[True] Prediction: 0 True label: 0\n",
      "[True] Prediction: 0 True label: 0\n",
      "[True] Prediction: 0 True label: 0\n",
      "[True] Prediction: 0 True label: 0\n",
      "[True] Prediction: 3 True label: 3\n",
      "[True] Prediction: 3 True label: 3\n",
      "[True] Prediction: 0 True label: 0\n",
      "[True] Prediction: 0 True label: 0\n",
      "[True] Prediction: 1 True label: 1\n",
      "[True] Prediction: 3 True label: 3\n",
      "[True] Prediction: 6 True label: 6\n",
      "[True] Prediction: 6 True label: 6\n",
      "[True] Prediction: 6 True label: 6\n",
      "[True] Prediction: 1 True label: 1\n",
      "[True] Prediction: 0 True label: 0\n",
      "[True] Prediction: 3 True label: 3\n",
      "[True] Prediction: 0 True label: 0\n",
      "[True] Prediction: 1 True label: 1\n",
      "[True] Prediction: 1 True label: 1\n",
      "[True] Prediction: 0 True label: 0\n",
      "[True] Prediction: 1 True label: 1\n",
      "[True] Prediction: 5 True label: 5\n",
      "[True] Prediction: 4 True label: 4\n",
      "[True] Prediction: 4 True label: 4\n",
      "[True] Prediction: 0 True label: 0\n",
      "[True] Prediction: 0 True label: 0\n",
      "[True] Prediction: 0 True label: 0\n",
      "[True] Prediction: 5 True label: 5\n",
      "[True] Prediction: 0 True label: 0\n",
      "[True] Prediction: 0 True label: 0\n",
      "[True] Prediction: 1 True label: 1\n",
      "[True] Prediction: 3 True label: 3\n",
      "[True] Prediction: 0 True label: 0\n",
      "[True] Prediction: 0 True label: 0\n",
      "[True] Prediction: 1 True label: 1\n",
      "[True] Prediction: 3 True label: 3\n",
      "[True] Prediction: 5 True label: 5\n",
      "[True] Prediction: 5 True label: 5\n",
      "[True] Prediction: 1 True label: 1\n",
      "[True] Prediction: 5 True label: 5\n",
      "[True] Prediction: 1 True label: 1\n",
      "[True] Prediction: 0 True label: 0\n",
      "[True] Prediction: 0 True label: 0\n",
      "[True] Prediction: 6 True label: 6\n",
      "[True] Prediction: 0 True label: 0\n",
      "[True] Prediction: 0 True label: 0\n",
      "[True] Prediction: 0 True label: 0\n",
      "[True] Prediction: 0 True label: 0\n",
      "[True] Prediction: 5 True label: 5\n",
      "[True] Prediction: 4 True label: 4\n",
      "[True] Prediction: 6 True label: 6\n",
      "[True] Prediction: 0 True label: 0\n",
      "[True] Prediction: 0 True label: 0\n",
      "[True] Prediction: 1 True label: 1\n",
      "[True] Prediction: 1 True label: 1\n",
      "[True] Prediction: 1 True label: 1\n",
      "[True] Prediction: 1 True label: 1\n",
      "[True] Prediction: 3 True label: 3\n",
      "[True] Prediction: 3 True label: 3\n",
      "[True] Prediction: 2 True label: 2\n",
      "[True] Prediction: 0 True label: 0\n",
      "[True] Prediction: 0 True label: 0\n",
      "[True] Prediction: 0 True label: 0\n",
      "[True] Prediction: 0 True label: 0\n",
      "[True] Prediction: 0 True label: 0\n",
      "[True] Prediction: 0 True label: 0\n",
      "[True] Prediction: 0 True label: 0\n",
      "[True] Prediction: 0 True label: 0\n",
      "[True] Prediction: 1 True label: 1\n",
      "[True] Prediction: 6 True label: 6\n",
      "[True] Prediction: 3 True label: 3\n",
      "[True] Prediction: 0 True label: 0\n",
      "[True] Prediction: 0 True label: 0\n",
      "[True] Prediction: 2 True label: 2\n",
      "[True] Prediction: 6 True label: 6\n",
      "[True] Prediction: 1 True label: 1\n",
      "[True] Prediction: 1 True label: 1\n",
      "[True] Prediction: 2 True label: 2\n",
      "[True] Prediction: 6 True label: 6\n",
      "[True] Prediction: 3 True label: 3\n",
      "[True] Prediction: 1 True label: 1\n",
      "[True] Prediction: 0 True label: 0\n",
      "[True] Prediction: 6 True label: 6\n",
      "[True] Prediction: 3 True label: 3\n",
      "[True] Prediction: 1 True label: 1\n",
      "[True] Prediction: 5 True label: 5\n",
      "[True] Prediction: 4 True label: 4\n",
      "[True] Prediction: 2 True label: 2\n",
      "[True] Prediction: 2 True label: 2\n",
      "[True] Prediction: 3 True label: 3\n",
      "[True] Prediction: 0 True label: 0\n",
      "[True] Prediction: 0 True label: 0\n",
      "[True] Prediction: 1 True label: 1\n",
      "[True] Prediction: 0 True label: 0\n",
      "[True] Prediction: 5 True label: 5\n",
      "[True] Prediction: 0 True label: 0\n",
      "[True] Prediction: 6 True label: 6\n",
      "[True] Prediction: 1 True label: 1\n"
     ]
    }
   ],
   "source": [
    "with tf.Session() as sess:\n",
    "    sess.run(tf.global_variables_initializer())\n",
    "    for step in range(2000):\n",
    "        sess.run(optimizer, feed_dict={X: x_data, Y: y_data})\n",
    "        if step % 100 == 0:\n",
    "            loss, acc = sess.run([cost, accuracy], feed_dict={X: x_data, Y: y_data})\n",
    "            print(\"Step: {:5}\\tLoss: {:.3f}\\tAcc: {:.2%}\".format(step, loss, acc))\n",
    "\n",
    "    pred = sess.run(prediction, feed_dict={X: x_data})\n",
    "\n",
    "    for p, y in zip(pred, y_data.flatten()):\n",
    "        print(\"[{}] Prediction: {} True label: {}\".format(p == int(y), p, int(y)))"
   ]
  },
  {
   "cell_type": "code",
   "execution_count": null,
   "metadata": {},
   "outputs": [],
   "source": []
  },
  {
   "cell_type": "code",
   "execution_count": null,
   "metadata": {},
   "outputs": [],
   "source": []
  }
 ],
 "metadata": {
  "kernelspec": {
   "display_name": "Python 3",
   "language": "python",
   "name": "python3"
  },
  "language_info": {
   "codemirror_mode": {
    "name": "ipython",
    "version": 3
   },
   "file_extension": ".py",
   "mimetype": "text/x-python",
   "name": "python",
   "nbconvert_exporter": "python",
   "pygments_lexer": "ipython3",
   "version": "3.6.4"
  }
 },
 "nbformat": 4,
 "nbformat_minor": 2
}
