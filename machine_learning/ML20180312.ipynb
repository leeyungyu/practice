{
 "cells": [
  {
   "cell_type": "markdown",
   "metadata": {},
   "source": [
    "# Back Propagation 이용"
   ]
  },
  {
   "cell_type": "code",
   "execution_count": 17,
   "metadata": {},
   "outputs": [],
   "source": [
    "import sys, os\n",
    "sys.path.append(os.pardir)\n",
    "from common.functions import *\n",
    "import time\n",
    "import numpy as np\n",
    "from collections import OrderedDict as OD\n",
    "\n",
    "from dataset.mnist import load_mnist as load\n",
    "import matplotlib.pyplot as plt\n",
    "import pickle"
   ]
  },
  {
   "cell_type": "code",
   "execution_count": 48,
   "metadata": {},
   "outputs": [],
   "source": [
    "class Affine: # 정리된 계층(활성함수 like ReLU에 넣기 전)\n",
    "    def __init__(self, W, b):\n",
    "        self.W = W # 행렬값\n",
    "        self.b = b # 역치\n",
    "        self.x = None # 입력값\n",
    "        self.dW = None # W변화량(기울기)\n",
    "        self.db = None # b변화량(기울기)\n",
    "        \n",
    "    def forward(self, x):\n",
    "        self.x = x\n",
    "        out = np.dot(x, self.W) + self.b # 값 계산\n",
    "        \n",
    "        return out\n",
    "    \n",
    "    def backward(self, dout): # 역전파 첫 입력값\n",
    "        dx = np.dot(dout, self.W.T)\n",
    "        self.dW = np.dot(self.x.T, dout)\n",
    "        self.db = np.sum(dout, axis = 0)\n",
    "        \n",
    "        return dx"
   ]
  },
  {
   "cell_type": "code",
   "execution_count": 49,
   "metadata": {},
   "outputs": [],
   "source": [
    "class Softmax:\n",
    "    def __init__(self):\n",
    "        self.loss = None\n",
    "        self.y = None\n",
    "        self.x = None\n",
    "        \n",
    "    def forward(self, x, t): # 입력과 정답에 대해\n",
    "        self.t = t\n",
    "        self.y = softmax(x) # softmax는 commom/function에 있음\n",
    "        self.loss = cross_entropy_error(self.y, self.t)\n",
    "        \n",
    "        return self.loss\n",
    "    \n",
    "    def backward(self, dout=1):\n",
    "        batch_size = self.t.shape[0]\n",
    "        dx = (self.y - self.t)/batch_size # 어파인 원소 하나당 오차를 전파해야 함\n",
    "        \n",
    "        return dx"
   ]
  },
  {
   "cell_type": "code",
   "execution_count": 50,
   "metadata": {},
   "outputs": [],
   "source": [
    "class Relu:\n",
    "    def __init__(self):\n",
    "        self.mask = None\n",
    "        \n",
    "    def forward(self, x):\n",
    "        self.mask = (x<=0)\n",
    "        out = x.copy()\n",
    "        out[self.mask] = 0\n",
    "        \n",
    "        return out\n",
    "    \n",
    "    def backward(self, dout):\n",
    "        dout[self.mask] = 0\n",
    "        dx = dout\n",
    "        \n",
    "        return dx"
   ]
  },
  {
   "cell_type": "code",
   "execution_count": 51,
   "metadata": {},
   "outputs": [],
   "source": [
    "class Learning:\n",
    "    def __init__(self, insize, hidsize, outsize, weight = 0.01):\n",
    "        self.params = {}\n",
    "        self.params['W1'] = weight * np.random.randn(insize, hidsize)\n",
    "        self.params['W2'] = weight * np.random.randn(hidsize, outsize)\n",
    "        self.params['b1'] = weight * np.zeros(hidsize)\n",
    "        self.params['b2'] = weight * np.zeros(outsize)\n",
    "        \n",
    "        self.layers = OD()\n",
    "        self.layers['Affine1'] = Affine(self.params['W1'], self.params['b1'])\n",
    "        self.layers['Relu'] = Relu()\n",
    "        self.layers['Affine2'] = Affine(self.params['W2'], self.params['b2'])\n",
    "\n",
    "        self.lastLayer = Softmax()\n",
    "        \n",
    "    def predict(self, x):\n",
    "        for layer in self.layers.values():\n",
    "            x = layer.forward(x) # 순전파 계산\n",
    "            \n",
    "        return x\n",
    "    \n",
    "    def loss(self, x, t):\n",
    "        y = self.predict(x)\n",
    "        \n",
    "        return self.lastLayer.forward(y,t) # 교차엔트로피 오차계산\n",
    "    \n",
    "    def grad_back(self, x, t):\n",
    "        self.loss(x,t)\n",
    "        \n",
    "        dout = 1 # initialize\n",
    "        dout = self.lastLayer.backward(dout)\n",
    "        \n",
    "        layers = list(self.layers.values())\n",
    "        layers.reverse()\n",
    "        for layer in layers:\n",
    "            dout = layer.backward(dout)\n",
    "            \n",
    "        grads = {}\n",
    "        grads['W1'] = self.layers['Affine1'].dW\n",
    "        grads['W2'] = self.layers['Affine2'].dW\n",
    "        grads['b1'] = self.layers['Affine1'].db\n",
    "        grads['b2'] = self.layers['Affine2'].db\n",
    "        \n",
    "        return grads"
   ]
  },
  {
   "cell_type": "code",
   "execution_count": 85,
   "metadata": {},
   "outputs": [],
   "source": [
    "(x_tr, t_tr), (x_te, t_te) = load(one_hot_label = True)"
   ]
  },
  {
   "cell_type": "code",
   "execution_count": 164,
   "metadata": {},
   "outputs": [],
   "source": [
    "iters_num = 60000\n",
    "train_size = x_tr.shape[0]\n",
    "batch_size = 10000\n",
    "learning_rate = 0.1"
   ]
  },
  {
   "cell_type": "code",
   "execution_count": 165,
   "metadata": {},
   "outputs": [],
   "source": [
    "net = Learning(insize = 784, hidsize = 50, outsize = 10)"
   ]
  },
  {
   "cell_type": "code",
   "execution_count": null,
   "metadata": {},
   "outputs": [
    {
     "name": "stdout",
     "output_type": "stream",
     "text": [
      "calc 19.11% done. elapsed : 0h 28m 4ss\r"
     ]
    }
   ],
   "source": [
    "now = time.time()\n",
    "train_loss = []\n",
    "for i in range(iters_num):\n",
    "    slicing = np.random.choice(train_size, batch_size)\n",
    "    x_batch = x_tr[slicing]\n",
    "    t_batch = t_tr[slicing]\n",
    "    \n",
    "    gradient = net.grad_back(x_batch, t_batch)\n",
    "    \n",
    "    for key in ['W1', 'W2', 'b1', 'b2']:\n",
    "        net.params[key] -= learning_rate * gradient[key]\n",
    "        \n",
    "    loss = net.loss(x_batch, t_batch)\n",
    "    train_loss.append(loss)\n",
    "    \n",
    "    elapsed_time = (time.time()-now)\n",
    "    second = elapsed_time%60\n",
    "    minute = elapsed_time//60%60\n",
    "    hour = elapsed_time//3600\n",
    "    \n",
    "    print('calc {0:.2f}% done. elapsed : {1:.0f}h {2:.0f}m {3:.0f}s'.format((i+1)*100/iters_num,hour, minute, second), end = '\\r')\n"
   ]
  },
  {
   "cell_type": "code",
   "execution_count": null,
   "metadata": {},
   "outputs": [],
   "source": [
    "with open('common/params_dict4.pkl', 'wb') as f:\n",
    "    pickle.dump(net.params, f)\n",
    "    \n",
    "\n",
    "plt.plot(range(iters_num), train_loss)\n",
    "plt.show()"
   ]
  },
  {
   "cell_type": "markdown",
   "metadata": {},
   "source": [
    "학습법으로는 adam, 초기값으로는 He를 사용하는 것이 Relu에선 유리하다."
   ]
  },
  {
   "cell_type": "markdown",
   "metadata": {},
   "source": [
    "batch normalization"
   ]
  },
  {
   "cell_type": "markdown",
   "metadata": {},
   "source": [
    "그냥 미분으로 3시간 걸리던 계산이 1초만에 뚝딱 됨. 개신기"
   ]
  },
  {
   "cell_type": "code",
   "execution_count": null,
   "metadata": {},
   "outputs": [],
   "source": [
    "accuracy = 0\n",
    "for i in range(60000):\n",
    "    if np.argmax(softmax(net.predict(x_tr[i]))) == np.argmax(t_tr[i]):\n",
    "        accuracy += 1\n",
    "        \n",
    "print(accuracy/60000)\n",
    "        "
   ]
  },
  {
   "cell_type": "code",
   "execution_count": null,
   "metadata": {},
   "outputs": [],
   "source": [
    "0.838 0.924 0.93(20000) 0.934(30000), #40000부턴 떨어짐"
   ]
  }
 ],
 "metadata": {
  "kernelspec": {
   "display_name": "Python 3",
   "language": "python",
   "name": "python3"
  },
  "language_info": {
   "codemirror_mode": {
    "name": "ipython",
    "version": 3
   },
   "file_extension": ".py",
   "mimetype": "text/x-python",
   "name": "python",
   "nbconvert_exporter": "python",
   "pygments_lexer": "ipython3",
   "version": "3.6.4"
  }
 },
 "nbformat": 4,
 "nbformat_minor": 2
}
